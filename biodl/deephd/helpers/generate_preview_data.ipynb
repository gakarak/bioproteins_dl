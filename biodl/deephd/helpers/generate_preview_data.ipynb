{
 "nbformat": 4,
 "nbformat_minor": 2,
 "metadata": {
  "language_info": {
   "name": "python",
   "codemirror_mode": {
    "name": "ipython",
    "version": 3
   },
   "version": "3.7.6-final"
  },
  "orig_nbformat": 2,
  "file_extension": ".py",
  "mimetype": "text/x-python",
  "name": "python",
  "npconvert_exporter": "python",
  "pygments_lexer": "ipython3",
  "version": 3,
  "kernelspec": {
   "name": "python37664bitpy37venv6de632bd27b44adc91d74b349ae0e1e5",
   "display_name": "Python 3.7.6 64-bit ('py37': venv)"
  }
 },
 "cells": [
  {
   "cell_type": "code",
   "execution_count": 1,
   "metadata": {},
   "outputs": [],
   "source": [
    "import os\n",
    "import sys\n",
    "import numpy as np\n",
    "import matplotlib.pyplot as plt\n",
    "import pickle as pkl\n",
    "import pandas as pd\n",
    "import scipy.spatial.distance as sdst\n",
    "from skimage import io as skio\n",
    "#\n",
    "sys.path.append('../../..')\n",
    "from biodl.deephd.dhd_data import load_one_sample, _load_idx\n",
    "from biodl.bio_utils import parallel_tasks_run_def"
   ]
  },
  {
   "cell_type": "code",
   "execution_count": 2,
   "metadata": {},
   "outputs": [],
   "source": [
    "path_idx = '/mnt/data1T/data/annaha/homod/idxok.txt'\n",
    "data_idx = _load_idx(path_idx)\n",
    ""
   ]
  },
  {
   "cell_type": "code",
   "execution_count": 3,
   "metadata": {},
   "outputs": [],
   "source": [
    "def get_dst_mat(sample: dict) -> np.ndarray:\n",
    "    ret = []\n",
    "    for atom_type in ('ca', 'cb'):\n",
    "        x1, x2 = sample[f'coords_{atom_type}']\n",
    "        dst_x1x1 = sdst.cdist(x1, x1).astype(np.float32)\n",
    "        dst_x1x2 = sdst.cdist(x1, x2).astype(np.float32)\n",
    "        ret.append(dst_x1x1)\n",
    "        ret.append(dst_x1x2)\n",
    "    ret = np.concatenate(ret, axis=1)\n",
    "    return ret\n",
    "\n",
    "def prepare_preview_img(row: pd.Series) -> bool:\n",
    "    path_pdb = row['path_pdb_abs']\n",
    "    path_img = os.path.splitext(path_pdb)[0] + '_preview.png'\n",
    "    if os.path.isfile(path_img):\n",
    "        return True\n",
    "    data_sample = load_one_sample(row)\n",
    "    dst_img = get_dst_mat(data_sample)\n",
    "    dst_img = (255. * dst_img / dst_img.max()).astype(np.uint8)\n",
    "    skio.imsave(path_img, dst_img)\n",
    "    return True"
   ]
  },
  {
   "cell_type": "code",
   "execution_count": 4,
   "metadata": {},
   "outputs": [],
   "source": [
    "tasks_data = [{'row': x} for _, x in data_idx.iterrows() ]\n",
    "\n",
    "# for irow, row in data_idx.iterrows():\n",
    "#     data_sample = load_one_sample(row)    \n",
    "#     dst_img = get_dst_mat(data_sample)\n",
    "#     dst_img = (255. * dst_img / dst_img.max()).astype(np.uint8)\n",
    "#     break"
   ]
  },
  {
   "cell_type": "code",
   "execution_count": 5,
   "metadata": {},
   "outputs": [
    {
     "output_type": "stream",
     "name": "stderr",
     "text": "INFO:root::: start (unnamed-task) #data/#threads = 17555/8, use-process(True)\nINFO:root:\t[0/17555] (l1) (unnamed-task)\nINFO:root:\t[1756/17555] (l1) (unnamed-task)\nINFO:root:\t[3512/17555] (l1) (unnamed-task)\nINFO:root:\t[5268/17555] (l1) (unnamed-task)\nINFO:root:\t[7024/17555] (l1) (unnamed-task)\nINFO:root:\t[8780/17555] (l1) (unnamed-task)\nINFO:root:\t[10536/17555] (l1) (unnamed-task)\nINFO:root:\t[12292/17555] (l1) (unnamed-task)\nINFO:root:\t[14048/17555] (l1) (unnamed-task)\nINFO:root:\t[15804/17555] (l1) (unnamed-task)\nINFO:root:\t\t... done, dt ~ 172.74 (s), speed=101.63 (samples/s) [unnamed-task]\n"
    }
   ],
   "source": [
    "ret = parallel_tasks_run_def(prepare_preview_img, tasks_data, num_workers=8)"
   ]
  },
  {
   "cell_type": "code",
   "execution_count": null,
   "metadata": {},
   "outputs": [],
   "source": []
  }
 ]
}