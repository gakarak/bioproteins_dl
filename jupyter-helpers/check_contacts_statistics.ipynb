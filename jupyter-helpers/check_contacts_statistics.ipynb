{
 "cells": [
  {
   "cell_type": "code",
   "execution_count": 62,
   "metadata": {
    "collapsed": true
   },
   "outputs": [],
   "source": [
    "import numpy as np\n",
    "from typing import Union as U, Optional as O\n"
   ]
  },
  {
   "cell_type": "code",
   "execution_count": 63,
   "outputs": [],
   "source": [
    "alphabet = ('a', 'b', 'c')\n",
    "map_abci = {x: xi for xi, x in enumerate(alphabet)}\n",
    "map_iabc = {y: x for x, y in map_abci.items()}\n"
   ],
   "metadata": {
    "collapsed": false,
    "pycharm": {
     "name": "#%%\n"
    }
   }
  },
  {
   "cell_type": "code",
   "execution_count": 203,
   "outputs": [],
   "source": [
    "def calc_counts(chain: np.ndarray, mat_dst: np.ndarray,\n",
    "                map_abci: dict = map_abci) -> np.ndarray:\n",
    "    size_alphabet = len(map_abci)\n",
    "    mat_cnt = np.zeros([size_alphabet, size_alphabet])\n",
    "    R, C = np.where(mat_dst > 0)\n",
    "    for rr, cc in zip(R, C):\n",
    "        ra, ca = map_abci[chain[rr]], map_abci[chain[cc]]\n",
    "        # ra, ca = np.sort([ra, ca])\n",
    "        mat_cnt[ra, ca] += 1\n",
    "        # if (ra != ca) & (cc > rr):\n",
    "        #     mat_cnt[ca, ra] += 1\n",
    "        if ra != ca:\n",
    "            mat_cnt[ca, ra] += 1\n",
    "    # mat_cnt_l = np.tril(mat_cnt.T, k=-1)\n",
    "    # mat_cnt += mat_cnt_l\n",
    "    return mat_cnt\n",
    "\n",
    "\n",
    "def calc_freq(chain: np.ndarray, mat_dst: np.ndarray, sum_t=1,\n",
    "              map_iabc: dict = map_abci) -> np.ndarray:\n",
    "    size_alphabet = len(map_abci)\n",
    "    mat_freq = np.zeros(size_alphabet)\n",
    "    idx_ok = np.where(mat_dst.sum(axis=-1) > sum_t)[0]\n",
    "    for x in idx_ok:\n",
    "        xa = map_iabc[chain[x]]\n",
    "        mat_freq[xa] += 1\n",
    "    return mat_freq\n"
   ],
   "metadata": {
    "collapsed": false,
    "pycharm": {
     "name": "#%%\n"
    }
   }
  },
  {
   "cell_type": "code",
   "execution_count": 206,
   "outputs": [],
   "source": [
    "# mapa = {'a': 0, 'b': 1, 'c': 2}\n",
    "# mapi = {y: x for x, y in mapa.items()}\n",
    "# chain = ['a', 'b', 'c'] * 2\n",
    "# keys = np.sort(np.unique(chain))\n",
    "# mat_cnt = np.zeros([len(keys), len(keys)])\n",
    "\n",
    "chain = ['a', 'b', 'c'] * 2\n",
    "mat_dst = np.abs(1 - np.eye(len(chain)))\n",
    "mat_dstd = np.triu(mat_dst)\n"
   ],
   "metadata": {
    "collapsed": false,
    "pycharm": {
     "name": "#%%\n"
    }
   }
  },
  {
   "cell_type": "code",
   "execution_count": 207,
   "outputs": [
    {
     "data": {
      "text/plain": "array([[2., 8., 8.],\n       [8., 2., 8.],\n       [8., 8., 2.]])"
     },
     "execution_count": 207,
     "metadata": {},
     "output_type": "execute_result"
    }
   ],
   "source": [
    "mat_cnt = calc_counts(chain, mat_dst)\n",
    "mat_cnt"
   ],
   "metadata": {
    "collapsed": false,
    "pycharm": {
     "name": "#%%\n"
    }
   }
  },
  {
   "cell_type": "code",
   "execution_count": null,
   "outputs": [],
   "source": [
    "\n"
   ],
   "metadata": {
    "collapsed": false,
    "pycharm": {
     "name": "#%%\n"
    }
   }
  }
 ],
 "metadata": {
  "kernelspec": {
   "display_name": "Python 3",
   "language": "python",
   "name": "python3"
  },
  "language_info": {
   "codemirror_mode": {
    "name": "ipython",
    "version": 2
   },
   "file_extension": ".py",
   "mimetype": "text/x-python",
   "name": "python",
   "nbconvert_exporter": "python",
   "pygments_lexer": "ipython2",
   "version": "2.7.6"
  }
 },
 "nbformat": 4,
 "nbformat_minor": 0
}